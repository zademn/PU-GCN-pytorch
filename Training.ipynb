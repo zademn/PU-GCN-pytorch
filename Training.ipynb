{
 "cells": [
  {
   "cell_type": "code",
   "execution_count": 2,
   "id": "8dcfd23f-9555-41c1-94fa-7b027e593b63",
   "metadata": {},
   "outputs": [
    {
     "ename": "ModuleNotFoundError",
     "evalue": "No module named 'pptk'",
     "output_type": "error",
     "traceback": [
      "\u001b[1;31m---------------------------------------------------------------------------\u001b[0m",
      "\u001b[1;31mModuleNotFoundError\u001b[0m                       Traceback (most recent call last)",
      "\u001b[1;32m~\\AppData\\Local\\Temp/ipykernel_10124/3912965928.py\u001b[0m in \u001b[0;36m<module>\u001b[1;34m\u001b[0m\n\u001b[0;32m     10\u001b[0m \u001b[1;33m\u001b[0m\u001b[0m\n\u001b[0;32m     11\u001b[0m \u001b[1;32mfrom\u001b[0m \u001b[0mtqdm\u001b[0m\u001b[1;33m.\u001b[0m\u001b[0mnotebook\u001b[0m \u001b[1;32mimport\u001b[0m \u001b[0mtqdm\u001b[0m\u001b[1;33m,\u001b[0m \u001b[0mtrange\u001b[0m\u001b[1;33m\u001b[0m\u001b[1;33m\u001b[0m\u001b[0m\n\u001b[1;32m---> 12\u001b[1;33m \u001b[1;32mimport\u001b[0m \u001b[0mpptk\u001b[0m\u001b[1;33m\u001b[0m\u001b[1;33m\u001b[0m\u001b[0m\n\u001b[0m",
      "\u001b[1;31mModuleNotFoundError\u001b[0m: No module named 'pptk'"
     ]
    }
   ],
   "source": [
    "import numpy as np\n",
    "import torch\n",
    "import torch_geometric\n",
    "from torch_cluster import knn, knn_graph\n",
    "import open3d as o3d\n",
    "#utils\n",
    "import h5py\n",
    "import os\n",
    "import dataclasses\n",
    "\n",
    "from tqdm.notebook import tqdm, trange\n"
   ]
  },
  {
   "cell_type": "code",
   "execution_count": 2,
   "id": "77841ee4-cde3-4cf4-98e6-07d8b608e144",
   "metadata": {},
   "outputs": [
    {
     "name": "stdout",
     "output_type": "stream",
     "text": [
      "Note: you may need to restart the kernel to use updated packages.\n"
     ]
    },
    {
     "name": "stderr",
     "output_type": "stream",
     "text": [
      "WARNING: Ignoring invalid distribution -ywin32 (c:\\users\\zademnw\\appdata\\roaming\\python\\python39\\site-packages)\n",
      "WARNING: Ignoring invalid distribution -upyterlab (g:\\conda3\\envs\\pytorch_env\\lib\\site-packages)\n",
      "WARNING: Ignoring invalid distribution -qdm (g:\\conda3\\envs\\pytorch_env\\lib\\site-packages)\n",
      "WARNING: Ignoring invalid distribution -ip (g:\\conda3\\envs\\pytorch_env\\lib\\site-packages)\n",
      "WARNING: Ignoring invalid distribution -ywin32 (c:\\users\\zademnw\\appdata\\roaming\\python\\python39\\site-packages)\n",
      "WARNING: Ignoring invalid distribution -upyterlab (g:\\conda3\\envs\\pytorch_env\\lib\\site-packages)\n",
      "WARNING: Ignoring invalid distribution -qdm (g:\\conda3\\envs\\pytorch_env\\lib\\site-packages)\n",
      "WARNING: Ignoring invalid distribution -ip (g:\\conda3\\envs\\pytorch_env\\lib\\site-packages)\n",
      "ERROR: Could not find a version that satisfies the requirement pptk (from versions: none)\n",
      "ERROR: No matching distribution found for pptk\n",
      "WARNING: Ignoring invalid distribution -ywin32 (c:\\users\\zademnw\\appdata\\roaming\\python\\python39\\site-packages)\n",
      "WARNING: Ignoring invalid distribution -upyterlab (g:\\conda3\\envs\\pytorch_env\\lib\\site-packages)\n",
      "WARNING: Ignoring invalid distribution -qdm (g:\\conda3\\envs\\pytorch_env\\lib\\site-packages)\n",
      "WARNING: Ignoring invalid distribution -ip (g:\\conda3\\envs\\pytorch_env\\lib\\site-packages)\n",
      "WARNING: Ignoring invalid distribution -ywin32 (c:\\users\\zademnw\\appdata\\roaming\\python\\python39\\site-packages)\n",
      "WARNING: Ignoring invalid distribution -upyterlab (g:\\conda3\\envs\\pytorch_env\\lib\\site-packages)\n",
      "WARNING: Ignoring invalid distribution -qdm (g:\\conda3\\envs\\pytorch_env\\lib\\site-packages)\n",
      "WARNING: Ignoring invalid distribution -ip (g:\\conda3\\envs\\pytorch_env\\lib\\site-packages)\n"
     ]
    }
   ],
   "source": [
    "pip install pptk"
   ]
  },
  {
   "cell_type": "markdown",
   "id": "80ac6df8-74a8-4247-8020-6d2ad55bfa23",
   "metadata": {},
   "source": [
    "## Utils"
   ]
  },
  {
   "cell_type": "code",
   "execution_count": null,
   "id": "f63b63e1-d09f-4d96-ba04-2de359b0a5ff",
   "metadata": {},
   "outputs": [],
   "source": [
    "v = p"
   ]
  },
  {
   "cell_type": "markdown",
   "id": "42060005-9bbf-4ca3-abdd-81871f738893",
   "metadata": {},
   "source": [
    "### Load data"
   ]
  },
  {
   "cell_type": "code",
   "execution_count": 2,
   "id": "3ebfe4d7-efce-4789-ac68-7384cc7ada78",
   "metadata": {},
   "outputs": [],
   "source": [
    "def load_h5_data(h5_filename='', opts=None, skip_rate = 1, use_randominput=True):\n",
    "    \"\"\"\n",
    "    skip_rate: {int} -- step_size when loading the dataset\n",
    "    \"\"\"\n",
    "    num_point = opts.num_point\n",
    "    num_4X_point = int(opts.num_point*4)\n",
    "    num_out_point = int(opts.num_point*opts.up_ratio)\n",
    "\n",
    "    print(\"h5_filename : \",h5_filename)\n",
    "    if use_randominput:\n",
    "        print(\"use randominput, input h5 file is:\", h5_filename)\n",
    "        f = h5py.File(h5_filename)\n",
    "        input = f['poisson_%d'%num_4X_point][:]\n",
    "        gt = f['poisson_%d'%num_out_point][:]\n",
    "    else:\n",
    "        print(\"Do not randominput, input h5 file is:\", h5_filename)\n",
    "        f = h5py.File(h5_filename)\n",
    "        input = f['poisson_%d' % num_point][:]\n",
    "        gt = f['poisson_%d' % num_out_point][:]\n",
    "\n",
    "    #name = f['name'][:]\n",
    "    assert len(input) == len(gt)\n",
    "\n",
    "    print(\"Normalization the data\")\n",
    "    data_radius = np.ones(shape=(len(input)))\n",
    "    centroid = np.mean(gt[:, :, 0:3], axis=1, keepdims=True)\n",
    "    gt[:, :, 0:3] = gt[:, :, 0:3] - centroid\n",
    "    furthest_distance = np.amax(np.sqrt(np.sum(gt[:, :, 0:3] ** 2, axis=-1)), axis=1, keepdims=True)\n",
    "    gt[:, :, 0:3] = gt[:, :, 0:3] / np.expand_dims(furthest_distance, axis=-1)\n",
    "    input[:, :, 0:3] = input[:, :, 0:3] - centroid\n",
    "    input[:, :, 0:3] = input[:, :, 0:3] / np.expand_dims(furthest_distance, axis=-1)\n",
    "\n",
    "    input = input[::skip_rate]\n",
    "    gt = gt[::skip_rate]\n",
    "    data_radius = data_radius[::skip_rate]\n",
    "    print(\"total %d samples\" % (len(input)))\n",
    "    return input, gt, data_radius"
   ]
  },
  {
   "cell_type": "markdown",
   "id": "a1f769dd-1bb7-45c5-b43d-cc78d276c904",
   "metadata": {},
   "source": [
    "### Viz"
   ]
  },
  {
   "cell_type": "code",
   "execution_count": 3,
   "id": "84492071-d548-41e4-bab0-623e9fc87a6e",
   "metadata": {},
   "outputs": [],
   "source": [
    "def viz_pcd_graph(points, edge_list):\n",
    "    pcd = o3d.geometry.PointCloud()\n",
    "    pcd.points = o3d.utility.Vector3dVector(p)\n",
    "    ls = o3d.geometry.LineSet.create_from_point_cloud_correspondences(pcd, pcd, edge_list)\n",
    "    ls.paint_uniform_color([0.5, 0.5, 0.5])\n",
    "    o3d.visualization.draw_geometries([pcd, ls])\n",
    "    \n",
    "def viz_many(clouds: list):\n",
    "    pcds = []\n",
    "    for i, p in enumerate(clouds):\n",
    "        pcd = o3d.geometry.PointCloud()\n",
    "        pcd.points = o3d.utility.Vector3dVector(p + i * np.array([3, 0, 0])) # shift to see them side by side\n",
    "        pcds.append(pcd)\n",
    "    o3d.visualization.draw_geometries(pcds)"
   ]
  },
  {
   "cell_type": "markdown",
   "id": "997b4527-56c1-4347-9b3a-7d8a5d8d8874",
   "metadata": {},
   "source": [
    "### Configs"
   ]
  },
  {
   "cell_type": "code",
   "execution_count": 8,
   "id": "53a0426e-fb2b-487a-afcf-740f48a6ecf7",
   "metadata": {},
   "outputs": [],
   "source": [
    "@dataclasses.dataclass\n",
    "class ModelConfig:\n",
    "    num_point: int = 256 # number of points per sample\n",
    "    up_ratio: int = 4 # upsampling ratio\n",
    "    dilation: int = 2 # dilation in DenseGCN \n",
    "    num_neighbours: int = 20 # num neighbours in DenseGCN \n",
    "    n_idgcn_blocks: int = 2 # number of inception dense blocks\n",
    "    channels: int = 32 # number of channels for gcn\n",
    "    n_dgcn_blocks: int = 3 # number of DenseGCNBlocks in the DenseGCN\n",
    "    \n",
    "    \n",
    "@dataclasses.dataclass\n",
    "class TrainConfig:\n",
    "    batch_size: int = 64\n",
    "    epochs: int = 10\n",
    "    optimizer = \"adam\"\n",
    "    lr = .001\n",
    "    beta = .9\n",
    "    \n",
    "\n",
    "opts = ModelConfig()\n",
    "train_config = TrainConfig()"
   ]
  },
  {
   "cell_type": "markdown",
   "id": "d2d9adfb-f36c-45a8-bf4f-5e204fe60d42",
   "metadata": {},
   "source": [
    "### Losses"
   ]
  },
  {
   "cell_type": "code",
   "execution_count": 10,
   "id": "f79411f8-9854-493d-aaa3-c821a4a978ea",
   "metadata": {},
   "outputs": [],
   "source": [
    "def chamfer_distance(p: torch.Tensor, q: torch.Tensor):\n",
    "    \"\"\"\n",
    "        p, q: arrays of shape (num_points, num_dim)\n",
    "    \"\"\"\n",
    "    \n",
    "    closest_to_q = p[knn(p, q, 1)[1]]  # points in p closest to each point in q\n",
    "    closest_to_p = q[knn(q, p, 1)[1]] # points in q closest to each point in p\n",
    "    \n",
    "    e1 = (p - closest_to_p).pow(2).sum(-1)\n",
    "    e2 = (q - closest_to_q).pow(2).sum(-1)\n",
    "    cd = e1.mean() + e2.mean()\n",
    "    return cd"
   ]
  },
  {
   "cell_type": "markdown",
   "id": "4ab470c3-fa50-49ca-89a0-d305ec0ee477",
   "metadata": {},
   "source": [
    "# Data"
   ]
  },
  {
   "cell_type": "code",
   "execution_count": 4,
   "id": "ad64638a-c65e-44bb-99e7-87054aa354a7",
   "metadata": {},
   "outputs": [],
   "source": [
    "data_path = os.path.join(\"..\", \"data\", \"PU1K\", \"train\", \"pu1k_poisson_256_poisson_1024_pc_2500_patch50_addpugan.h5\")"
   ]
  },
  {
   "cell_type": "code",
   "execution_count": 5,
   "id": "4076e1b5-f0e3-4a49-b7ac-9d487213dae6",
   "metadata": {},
   "outputs": [],
   "source": [
    "from torch.utils.data import Dataset, DataLoader"
   ]
  },
  {
   "cell_type": "code",
   "execution_count": 6,
   "id": "ffa7abc3-9e5d-4e0e-a776-089e8b29278e",
   "metadata": {},
   "outputs": [],
   "source": [
    "class PCDDataset(Dataset):\n",
    "    def __init__(self, data_path, opts, skip_rate = 1):\n",
    "        f = h5py.File(data_path, 'r')\n",
    "        data, ground_truth, data_radius = load_h5_data(h5_filename=data_path, opts=opts, skip_rate = skip_rate, use_randominput=False)\n",
    "        self.data = torch.tensor(data)\n",
    "        self.ground_truth = torch.tensor(ground_truth)\n",
    "\n",
    "    def __getitem__(self, idx):\n",
    "        return self.data[idx], self.ground_truth[idx]\n",
    "\n",
    "        \n",
    "    def __len__(self):\n",
    "        return len(self.data)\n",
    "    "
   ]
  },
  {
   "cell_type": "code",
   "execution_count": 9,
   "id": "16127ec9-f59e-419b-882c-7eeb38a3c73d",
   "metadata": {},
   "outputs": [
    {
     "name": "stdout",
     "output_type": "stream",
     "text": [
      "h5_filename :  ..\\data\\PU1K\\train\\pu1k_poisson_256_poisson_1024_pc_2500_patch50_addpugan.h5\n",
      "Do not randominput, input h5 file is: ..\\data\\PU1K\\train\\pu1k_poisson_256_poisson_1024_pc_2500_patch50_addpugan.h5\n",
      "Normalization the data\n",
      "total 13800 samples\n"
     ]
    }
   ],
   "source": [
    "dataset = PCDDataset(data_path, opts, 5)"
   ]
  },
  {
   "cell_type": "code",
   "execution_count": 22,
   "id": "bef53477-cb4d-4c7c-a1fe-8e0556a784be",
   "metadata": {},
   "outputs": [],
   "source": [
    "data_cloud, gt_cloud = next(iter(dataset))"
   ]
  },
  {
   "cell_type": "code",
   "execution_count": 25,
   "id": "de16c345-61dd-45ec-96cc-775087fe07f0",
   "metadata": {},
   "outputs": [],
   "source": [
    "viz_many([data_cloud, gt_cloud])"
   ]
  },
  {
   "cell_type": "markdown",
   "id": "da430922-0cf7-408b-9e10-cfaf0a514e3d",
   "metadata": {},
   "source": [
    "# Training"
   ]
  },
  {
   "cell_type": "markdown",
   "id": "12ca1f3b-96fd-4fc8-8c32-b16674a09551",
   "metadata": {},
   "source": [
    "## Train one point cloud at a time"
   ]
  },
  {
   "cell_type": "code",
   "execution_count": 11,
   "id": "bc36cd8c-c8f8-49e0-9aa5-7f17266a7bcd",
   "metadata": {},
   "outputs": [],
   "source": [
    "device = \"cuda\" if torch.cuda.is_available() else \"cpu\""
   ]
  },
  {
   "cell_type": "code",
   "execution_count": 12,
   "id": "ea36c844-e650-4258-bf81-d1eb22783d8a",
   "metadata": {},
   "outputs": [],
   "source": [
    "from pugcn_lib import PUGCN"
   ]
  },
  {
   "cell_type": "code",
   "execution_count": 13,
   "id": "aa999855-1ceb-4c73-a1e3-333f643ed0a4",
   "metadata": {},
   "outputs": [
    {
     "name": "stdout",
     "output_type": "stream",
     "text": [
      "h5_filename :  ..\\data\\PU1K\\train\\pu1k_poisson_256_poisson_1024_pc_2500_patch50_addpugan.h5\n",
      "Do not randominput, input h5 file is: ..\\data\\PU1K\\train\\pu1k_poisson_256_poisson_1024_pc_2500_patch50_addpugan.h5\n",
      "Normalization the data\n",
      "total 6900 samples\n"
     ]
    }
   ],
   "source": [
    "dataset = PCDDataset(data_path, opts, 10)"
   ]
  },
  {
   "cell_type": "code",
   "execution_count": 14,
   "id": "79862ac6-17e6-421e-99ed-4587419859d5",
   "metadata": {},
   "outputs": [],
   "source": [
    "train_perc = .8\n",
    "trainset, valset = torch.utils.data.random_split(dataset , [int(len(dataset) * train_perc), int(len(dataset) * (1-train_perc)+1)])"
   ]
  },
  {
   "cell_type": "code",
   "execution_count": 15,
   "id": "8ef32133-892b-4731-8a8b-333fe4b861cf",
   "metadata": {},
   "outputs": [],
   "source": [
    "trainloader = DataLoader(trainset, batch_size=64)\n",
    "valloader = DataLoader(valset, batch_size=64, shuffle=False)"
   ]
  },
  {
   "cell_type": "code",
   "execution_count": 16,
   "id": "964adb15-e336-471c-ad02-e36c99f0e3b6",
   "metadata": {},
   "outputs": [],
   "source": [
    "pugcn = PUGCN(opts).to(device)\n",
    "\n",
    "loss_fn = chamfer_distance\n",
    "optimizer = torch.optim.Adam(params = pugcn.parameters(), lr = train_config.lr)"
   ]
  },
  {
   "cell_type": "code",
   "execution_count": 17,
   "id": "a5c8c0cf-8913-42c3-9061-d79aa99afd7c",
   "metadata": {},
   "outputs": [
    {
     "data": {
      "text/plain": [
       "Adam (\n",
       "Parameter Group 0\n",
       "    amsgrad: False\n",
       "    betas: (0.9, 0.999)\n",
       "    eps: 1e-08\n",
       "    lr: 0.001\n",
       "    weight_decay: 0\n",
       ")"
      ]
     },
     "execution_count": 17,
     "metadata": {},
     "output_type": "execute_result"
    }
   ],
   "source": [
    "optimizer"
   ]
  },
  {
   "cell_type": "code",
   "execution_count": 18,
   "id": "a30971a1-5571-41d6-b5bb-9cf772a058f0",
   "metadata": {},
   "outputs": [],
   "source": [
    "def train(model, trainset, loss_fn, optimizer):\n",
    "    \n",
    "    total_loss = 0.\n",
    "    for p, q in (t:= tqdm(trainset)):\n",
    "        p, q = p.to(device), q.to(device)\n",
    "        optimizer.zero_grad()\n",
    "        \n",
    "        pred = model(p)\n",
    "        loss = loss_fn(pred, q)\n",
    "        \n",
    "        loss.backward()\n",
    "        optimizer.step()\n",
    "        \n",
    "        total_loss+=loss.item()\n",
    "        t.set_description(f\"loss = {loss.item() :.2f}\")\n",
    "    return total_loss\n",
    "    "
   ]
  },
  {
   "cell_type": "code",
   "execution_count": 19,
   "id": "2b27e80f-f35a-42bc-8ff6-0b8291792448",
   "metadata": {},
   "outputs": [
    {
     "data": {
      "application/vnd.jupyter.widget-view+json": {
       "model_id": "a023709d3d6942c6b82ecca8b42f02c5",
       "version_major": 2,
       "version_minor": 0
      },
      "text/plain": [
       "  0%|          | 0/5520 [00:00<?, ?it/s]"
      ]
     },
     "metadata": {},
     "output_type": "display_data"
    },
    {
     "ename": "KeyboardInterrupt",
     "evalue": "",
     "output_type": "error",
     "traceback": [
      "\u001b[1;31m---------------------------------------------------------------------------\u001b[0m",
      "\u001b[1;31mKeyboardInterrupt\u001b[0m                         Traceback (most recent call last)",
      "\u001b[1;32m~\\AppData\\Local\\Temp/ipykernel_16720/3491957517.py\u001b[0m in \u001b[0;36m<module>\u001b[1;34m\u001b[0m\n\u001b[1;32m----> 1\u001b[1;33m \u001b[0ml\u001b[0m \u001b[1;33m=\u001b[0m \u001b[0mtrain\u001b[0m\u001b[1;33m(\u001b[0m\u001b[0mpugcn\u001b[0m\u001b[1;33m,\u001b[0m \u001b[0mtrainset\u001b[0m\u001b[1;33m,\u001b[0m \u001b[0mloss_fn\u001b[0m\u001b[1;33m,\u001b[0m \u001b[0moptimizer\u001b[0m\u001b[1;33m)\u001b[0m\u001b[1;33m\u001b[0m\u001b[1;33m\u001b[0m\u001b[0m\n\u001b[0m",
      "\u001b[1;32m~\\AppData\\Local\\Temp/ipykernel_16720/2976260514.py\u001b[0m in \u001b[0;36mtrain\u001b[1;34m(model, trainset, loss_fn, optimizer)\u001b[0m\n\u001b[0;32m      6\u001b[0m         \u001b[0moptimizer\u001b[0m\u001b[1;33m.\u001b[0m\u001b[0mzero_grad\u001b[0m\u001b[1;33m(\u001b[0m\u001b[1;33m)\u001b[0m\u001b[1;33m\u001b[0m\u001b[1;33m\u001b[0m\u001b[0m\n\u001b[0;32m      7\u001b[0m \u001b[1;33m\u001b[0m\u001b[0m\n\u001b[1;32m----> 8\u001b[1;33m         \u001b[0mpred\u001b[0m \u001b[1;33m=\u001b[0m \u001b[0mmodel\u001b[0m\u001b[1;33m(\u001b[0m\u001b[0mp\u001b[0m\u001b[1;33m)\u001b[0m\u001b[1;33m\u001b[0m\u001b[1;33m\u001b[0m\u001b[0m\n\u001b[0m\u001b[0;32m      9\u001b[0m         \u001b[0mloss\u001b[0m \u001b[1;33m=\u001b[0m \u001b[0mloss_fn\u001b[0m\u001b[1;33m(\u001b[0m\u001b[0mpred\u001b[0m\u001b[1;33m,\u001b[0m \u001b[0mq\u001b[0m\u001b[1;33m)\u001b[0m\u001b[1;33m\u001b[0m\u001b[1;33m\u001b[0m\u001b[0m\n\u001b[0;32m     10\u001b[0m \u001b[1;33m\u001b[0m\u001b[0m\n",
      "\u001b[1;32mG:\\Conda3\\envs\\pytorch_env\\lib\\site-packages\\torch\\nn\\modules\\module.py\u001b[0m in \u001b[0;36m_call_impl\u001b[1;34m(self, *input, **kwargs)\u001b[0m\n\u001b[0;32m   1049\u001b[0m         if not (self._backward_hooks or self._forward_hooks or self._forward_pre_hooks or _global_backward_hooks\n\u001b[0;32m   1050\u001b[0m                 or _global_forward_hooks or _global_forward_pre_hooks):\n\u001b[1;32m-> 1051\u001b[1;33m             \u001b[1;32mreturn\u001b[0m \u001b[0mforward_call\u001b[0m\u001b[1;33m(\u001b[0m\u001b[1;33m*\u001b[0m\u001b[0minput\u001b[0m\u001b[1;33m,\u001b[0m \u001b[1;33m**\u001b[0m\u001b[0mkwargs\u001b[0m\u001b[1;33m)\u001b[0m\u001b[1;33m\u001b[0m\u001b[1;33m\u001b[0m\u001b[0m\n\u001b[0m\u001b[0;32m   1052\u001b[0m         \u001b[1;31m# Do not call functions when jit is used\u001b[0m\u001b[1;33m\u001b[0m\u001b[1;33m\u001b[0m\u001b[1;33m\u001b[0m\u001b[0m\n\u001b[0;32m   1053\u001b[0m         \u001b[0mfull_backward_hooks\u001b[0m\u001b[1;33m,\u001b[0m \u001b[0mnon_full_backward_hooks\u001b[0m \u001b[1;33m=\u001b[0m \u001b[1;33m[\u001b[0m\u001b[1;33m]\u001b[0m\u001b[1;33m,\u001b[0m \u001b[1;33m[\u001b[0m\u001b[1;33m]\u001b[0m\u001b[1;33m\u001b[0m\u001b[1;33m\u001b[0m\u001b[0m\n",
      "\u001b[1;32mG:\\Big_Projects\\Licenta\\pugcn-pytorch\\pugcn_lib\\models.py\u001b[0m in \u001b[0;36mforward\u001b[1;34m(self, x)\u001b[0m\n\u001b[0;32m     22\u001b[0m \u001b[1;33m\u001b[0m\u001b[0m\n\u001b[0;32m     23\u001b[0m     \u001b[1;32mdef\u001b[0m \u001b[0mforward\u001b[0m\u001b[1;33m(\u001b[0m\u001b[0mself\u001b[0m\u001b[1;33m,\u001b[0m \u001b[0mx\u001b[0m\u001b[1;33m)\u001b[0m\u001b[1;33m:\u001b[0m\u001b[1;33m\u001b[0m\u001b[1;33m\u001b[0m\u001b[0m\n\u001b[1;32m---> 24\u001b[1;33m         \u001b[0mx\u001b[0m \u001b[1;33m=\u001b[0m \u001b[0mself\u001b[0m\u001b[1;33m.\u001b[0m\u001b[0mfeature_extractor\u001b[0m\u001b[1;33m(\u001b[0m\u001b[0mx\u001b[0m\u001b[1;33m)\u001b[0m\u001b[1;33m\u001b[0m\u001b[1;33m\u001b[0m\u001b[0m\n\u001b[0m\u001b[0;32m     25\u001b[0m         \u001b[0mx\u001b[0m \u001b[1;33m=\u001b[0m \u001b[0mself\u001b[0m\u001b[1;33m.\u001b[0m\u001b[0mupsampler\u001b[0m\u001b[1;33m(\u001b[0m\u001b[0mx\u001b[0m\u001b[1;33m)\u001b[0m\u001b[1;33m\u001b[0m\u001b[1;33m\u001b[0m\u001b[0m\n\u001b[0;32m     26\u001b[0m         \u001b[0mx\u001b[0m \u001b[1;33m=\u001b[0m \u001b[0mself\u001b[0m\u001b[1;33m.\u001b[0m\u001b[0mreconstructor\u001b[0m\u001b[1;33m(\u001b[0m\u001b[0mx\u001b[0m\u001b[1;33m)\u001b[0m\u001b[1;33m\u001b[0m\u001b[1;33m\u001b[0m\u001b[0m\n",
      "\u001b[1;32mG:\\Conda3\\envs\\pytorch_env\\lib\\site-packages\\torch\\nn\\modules\\module.py\u001b[0m in \u001b[0;36m_call_impl\u001b[1;34m(self, *input, **kwargs)\u001b[0m\n\u001b[0;32m   1049\u001b[0m         if not (self._backward_hooks or self._forward_hooks or self._forward_pre_hooks or _global_backward_hooks\n\u001b[0;32m   1050\u001b[0m                 or _global_forward_hooks or _global_forward_pre_hooks):\n\u001b[1;32m-> 1051\u001b[1;33m             \u001b[1;32mreturn\u001b[0m \u001b[0mforward_call\u001b[0m\u001b[1;33m(\u001b[0m\u001b[1;33m*\u001b[0m\u001b[0minput\u001b[0m\u001b[1;33m,\u001b[0m \u001b[1;33m**\u001b[0m\u001b[0mkwargs\u001b[0m\u001b[1;33m)\u001b[0m\u001b[1;33m\u001b[0m\u001b[1;33m\u001b[0m\u001b[0m\n\u001b[0m\u001b[0;32m   1052\u001b[0m         \u001b[1;31m# Do not call functions when jit is used\u001b[0m\u001b[1;33m\u001b[0m\u001b[1;33m\u001b[0m\u001b[1;33m\u001b[0m\u001b[0m\n\u001b[0;32m   1053\u001b[0m         \u001b[0mfull_backward_hooks\u001b[0m\u001b[1;33m,\u001b[0m \u001b[0mnon_full_backward_hooks\u001b[0m \u001b[1;33m=\u001b[0m \u001b[1;33m[\u001b[0m\u001b[1;33m]\u001b[0m\u001b[1;33m,\u001b[0m \u001b[1;33m[\u001b[0m\u001b[1;33m]\u001b[0m\u001b[1;33m\u001b[0m\u001b[1;33m\u001b[0m\u001b[0m\n",
      "\u001b[1;32mG:\\Big_Projects\\Licenta\\pugcn-pytorch\\pugcn_lib\\feature_extractor.py\u001b[0m in \u001b[0;36mforward\u001b[1;34m(self, x)\u001b[0m\n\u001b[0;32m    162\u001b[0m         \u001b[0mres\u001b[0m \u001b[1;33m=\u001b[0m \u001b[0mtorch\u001b[0m\u001b[1;33m.\u001b[0m\u001b[0mzeros_like\u001b[0m\u001b[1;33m(\u001b[0m\u001b[0mx\u001b[0m\u001b[1;33m)\u001b[0m  \u001b[1;31m# [N, C]\u001b[0m\u001b[1;33m\u001b[0m\u001b[1;33m\u001b[0m\u001b[0m\n\u001b[0;32m    163\u001b[0m         \u001b[1;32mfor\u001b[0m \u001b[0mlayer\u001b[0m \u001b[1;32min\u001b[0m \u001b[0mself\u001b[0m\u001b[1;33m.\u001b[0m\u001b[0mlayers\u001b[0m\u001b[1;33m:\u001b[0m\u001b[1;33m\u001b[0m\u001b[1;33m\u001b[0m\u001b[0m\n\u001b[1;32m--> 164\u001b[1;33m             \u001b[0mx\u001b[0m \u001b[1;33m=\u001b[0m \u001b[0mlayer\u001b[0m\u001b[1;33m(\u001b[0m\u001b[0mx\u001b[0m\u001b[1;33m)\u001b[0m\u001b[1;33m\u001b[0m\u001b[1;33m\u001b[0m\u001b[0m\n\u001b[0m\u001b[0;32m    165\u001b[0m             \u001b[0mres\u001b[0m \u001b[1;33m=\u001b[0m \u001b[0mres\u001b[0m \u001b[1;33m+\u001b[0m \u001b[0mx\u001b[0m\u001b[1;33m\u001b[0m\u001b[1;33m\u001b[0m\u001b[0m\n\u001b[0;32m    166\u001b[0m         \u001b[0mres\u001b[0m \u001b[1;33m=\u001b[0m \u001b[0mres\u001b[0m \u001b[1;33m/\u001b[0m \u001b[0mself\u001b[0m\u001b[1;33m.\u001b[0m\u001b[0mn_idgcn\u001b[0m  \u001b[1;31m# [N, C]\u001b[0m\u001b[1;33m\u001b[0m\u001b[1;33m\u001b[0m\u001b[0m\n",
      "\u001b[1;32mG:\\Conda3\\envs\\pytorch_env\\lib\\site-packages\\torch\\nn\\modules\\module.py\u001b[0m in \u001b[0;36m_call_impl\u001b[1;34m(self, *input, **kwargs)\u001b[0m\n\u001b[0;32m   1049\u001b[0m         if not (self._backward_hooks or self._forward_hooks or self._forward_pre_hooks or _global_backward_hooks\n\u001b[0;32m   1050\u001b[0m                 or _global_forward_hooks or _global_forward_pre_hooks):\n\u001b[1;32m-> 1051\u001b[1;33m             \u001b[1;32mreturn\u001b[0m \u001b[0mforward_call\u001b[0m\u001b[1;33m(\u001b[0m\u001b[1;33m*\u001b[0m\u001b[0minput\u001b[0m\u001b[1;33m,\u001b[0m \u001b[1;33m**\u001b[0m\u001b[0mkwargs\u001b[0m\u001b[1;33m)\u001b[0m\u001b[1;33m\u001b[0m\u001b[1;33m\u001b[0m\u001b[0m\n\u001b[0m\u001b[0;32m   1052\u001b[0m         \u001b[1;31m# Do not call functions when jit is used\u001b[0m\u001b[1;33m\u001b[0m\u001b[1;33m\u001b[0m\u001b[1;33m\u001b[0m\u001b[0m\n\u001b[0;32m   1053\u001b[0m         \u001b[0mfull_backward_hooks\u001b[0m\u001b[1;33m,\u001b[0m \u001b[0mnon_full_backward_hooks\u001b[0m \u001b[1;33m=\u001b[0m \u001b[1;33m[\u001b[0m\u001b[1;33m]\u001b[0m\u001b[1;33m,\u001b[0m \u001b[1;33m[\u001b[0m\u001b[1;33m]\u001b[0m\u001b[1;33m\u001b[0m\u001b[1;33m\u001b[0m\u001b[0m\n",
      "\u001b[1;32mG:\\Big_Projects\\Licenta\\pugcn-pytorch\\pugcn_lib\\feature_extractor.py\u001b[0m in \u001b[0;36mforward\u001b[1;34m(self, x)\u001b[0m\n\u001b[0;32m     88\u001b[0m         \u001b[1;31m# )  # [N * k,  2]\u001b[0m\u001b[1;33m\u001b[0m\u001b[1;33m\u001b[0m\u001b[1;33m\u001b[0m\u001b[0m\n\u001b[0;32m     89\u001b[0m         \u001b[0medge_index1\u001b[0m \u001b[1;33m=\u001b[0m \u001b[0mknn_graph\u001b[0m\u001b[1;33m(\u001b[0m\u001b[0mx\u001b[0m\u001b[1;33m,\u001b[0m \u001b[0mk\u001b[0m\u001b[1;33m)\u001b[0m  \u001b[1;31m# [N * k, 2]\u001b[0m\u001b[1;33m\u001b[0m\u001b[1;33m\u001b[0m\u001b[0m\n\u001b[1;32m---> 90\u001b[1;33m         \u001b[0medge_index2\u001b[0m \u001b[1;33m=\u001b[0m \u001b[0mknn_graph\u001b[0m\u001b[1;33m(\u001b[0m\u001b[0mx\u001b[0m\u001b[1;33m,\u001b[0m \u001b[0mk\u001b[0m \u001b[1;33m*\u001b[0m \u001b[0md\u001b[0m\u001b[1;33m)\u001b[0m\u001b[1;33m[\u001b[0m\u001b[1;33m:\u001b[0m\u001b[1;33m,\u001b[0m \u001b[1;33m:\u001b[0m\u001b[1;33m:\u001b[0m\u001b[0md\u001b[0m\u001b[1;33m]\u001b[0m  \u001b[1;31m# [N * k, 2]\u001b[0m\u001b[1;33m\u001b[0m\u001b[1;33m\u001b[0m\u001b[0m\n\u001b[0m\u001b[0;32m     91\u001b[0m \u001b[1;33m\u001b[0m\u001b[0m\n\u001b[0;32m     92\u001b[0m         \u001b[0mh1\u001b[0m \u001b[1;33m=\u001b[0m \u001b[0mself\u001b[0m\u001b[1;33m.\u001b[0m\u001b[0mdense_gcn1\u001b[0m\u001b[1;33m(\u001b[0m\u001b[0mx\u001b[0m\u001b[1;33m,\u001b[0m \u001b[0medge_index1\u001b[0m\u001b[1;33m)\u001b[0m  \u001b[1;31m# [N, C]\u001b[0m\u001b[1;33m\u001b[0m\u001b[1;33m\u001b[0m\u001b[0m\n",
      "\u001b[1;31mKeyboardInterrupt\u001b[0m: "
     ]
    }
   ],
   "source": [
    "l = train(pugcn, trainset, loss_fn, optimizer)"
   ]
  },
  {
   "cell_type": "code",
   "execution_count": 26,
   "id": "7188c4e8-744a-4a26-ab20-0bbeec85b162",
   "metadata": {},
   "outputs": [
    {
     "name": "stderr",
     "output_type": "stream",
     "text": [
      "C:\\Users\\ZademnW\\AppData\\Local\\Temp/ipykernel_16720/2339331737.py:1: UserWarning: To copy construct from a tensor, it is recommended to use sourceTensor.clone().detach() or sourceTensor.clone().detach().requires_grad_(True), rather than torch.tensor(sourceTensor).\n",
      "  pred = pugcn(torch.tensor(data_cloud).to(device)).cpu().detach().numpy()\n"
     ]
    }
   ],
   "source": [
    "pred = pugcn(torch.tensor(data_cloud).to(device)).cpu().detach().numpy()"
   ]
  },
  {
   "cell_type": "code",
   "execution_count": 27,
   "id": "93715ec6-c42d-4d21-aae0-1194ef4069d4",
   "metadata": {},
   "outputs": [
    {
     "data": {
      "text/plain": [
       "array([[-0.02048873,  0.01333656,  0.01265128],\n",
       "       [-0.02048873,  0.01333656,  0.01265128],\n",
       "       [-0.02048873,  0.01333656,  0.01265128],\n",
       "       ...,\n",
       "       [-0.02048873,  0.01333656,  0.01265128],\n",
       "       [-0.02048873,  0.01333656,  0.01265128],\n",
       "       [-0.02048873,  0.01333656,  0.01265128]], dtype=float32)"
      ]
     },
     "execution_count": 27,
     "metadata": {},
     "output_type": "execute_result"
    }
   ],
   "source": [
    "pred"
   ]
  },
  {
   "cell_type": "code",
   "execution_count": 28,
   "id": "b8252504-da52-46cf-86b9-539702993549",
   "metadata": {},
   "outputs": [
    {
     "data": {
      "text/plain": [
       "array([[-0.02048873,  0.01333656,  0.01265128],\n",
       "       [-0.02048873,  0.01333656,  0.01265128],\n",
       "       [-0.02048873,  0.01333656,  0.01265128],\n",
       "       ...,\n",
       "       [-0.02048873,  0.01333656,  0.01265128],\n",
       "       [-0.02048873,  0.01333656,  0.01265128],\n",
       "       [-0.02048873,  0.01333656,  0.01265128]], dtype=float32)"
      ]
     },
     "execution_count": 28,
     "metadata": {},
     "output_type": "execute_result"
    }
   ],
   "source": [
    "pred"
   ]
  },
  {
   "cell_type": "code",
   "execution_count": 29,
   "id": "8305b424-e2a7-499e-a684-ff3d72d71726",
   "metadata": {},
   "outputs": [],
   "source": [
    "viz_many([data_cloud, gt_cloud, pred])"
   ]
  },
  {
   "cell_type": "code",
   "execution_count": null,
   "id": "b7e58f68-9974-4404-b7cf-30e6088bccda",
   "metadata": {},
   "outputs": [],
   "source": []
  }
 ],
 "metadata": {
  "kernelspec": {
   "display_name": "Python 3 (ipykernel)",
   "language": "python",
   "name": "python3"
  },
  "language_info": {
   "codemirror_mode": {
    "name": "ipython",
    "version": 3
   },
   "file_extension": ".py",
   "mimetype": "text/x-python",
   "name": "python",
   "nbconvert_exporter": "python",
   "pygments_lexer": "ipython3",
   "version": "3.9.6"
  }
 },
 "nbformat": 4,
 "nbformat_minor": 5
}
