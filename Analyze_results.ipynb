{
 "cells": [
  {
   "cell_type": "code",
   "execution_count": 1,
   "id": "3cabee0c-4f06-466e-b965-86e64181753e",
   "metadata": {},
   "outputs": [],
   "source": [
    "import pandas as pd\n",
    "import numpy as np\n",
    "import os\n",
    "import tqdm.notebook as tqdm\n",
    "import matplotlib.pyplot as plt\n",
    "\n",
    "from omegaconf import OmegaConf"
   ]
  },
  {
   "cell_type": "code",
   "execution_count": 2,
   "id": "a435b512-b324-4890-9929-313d6f88d700",
   "metadata": {},
   "outputs": [],
   "source": [
    "results_dir = \"results\""
   ]
  },
  {
   "cell_type": "code",
   "execution_count": 3,
   "id": "4bfa6b17-5bb6-4645-b8be-6be204533941",
   "metadata": {},
   "outputs": [],
   "source": [
    "results_columns = ['epochs_trained', 'chamfer_loss', 'hausdorff_loss', 'model_size']\n",
    "data_columns = ['path', 'num_point', 'skip_rate', 'use_randominput']\n",
    "train_columns = ['batch_size', 'epochs', 'optimizer', 'lr', 'betas', 'save_every', 'eval_every', 'augment']\n",
    "model_columns = ['r', 'k', 'dilations', 'n_idgcn_blocks', 'channels', 'n_dgcn_blocks', 'use_bottleneck', 'use_pooling', 'use_residual', 'conv', 'pool_type']\n",
    "\n",
    "all_columns = [\"name\"] + model_columns + data_columns + train_columns + results_columns"
   ]
  },
  {
   "cell_type": "code",
   "execution_count": 4,
   "id": "f8375c0d-10de-4221-895f-1acf799884fe",
   "metadata": {},
   "outputs": [],
   "source": [
    "df = pd.DataFrame(columns=all_columns)"
   ]
  },
  {
   "cell_type": "code",
   "execution_count": 5,
   "id": "93102790-8d41-439d-a5d1-0c3b638c2098",
   "metadata": {},
   "outputs": [
    {
     "data": {
      "text/html": [
       "<div>\n",
       "<style scoped>\n",
       "    .dataframe tbody tr th:only-of-type {\n",
       "        vertical-align: middle;\n",
       "    }\n",
       "\n",
       "    .dataframe tbody tr th {\n",
       "        vertical-align: top;\n",
       "    }\n",
       "\n",
       "    .dataframe thead th {\n",
       "        text-align: right;\n",
       "    }\n",
       "</style>\n",
       "<table border=\"1\" class=\"dataframe\">\n",
       "  <thead>\n",
       "    <tr style=\"text-align: right;\">\n",
       "      <th></th>\n",
       "      <th>name</th>\n",
       "      <th>r</th>\n",
       "      <th>k</th>\n",
       "      <th>dilations</th>\n",
       "      <th>n_idgcn_blocks</th>\n",
       "      <th>channels</th>\n",
       "      <th>n_dgcn_blocks</th>\n",
       "      <th>use_bottleneck</th>\n",
       "      <th>use_pooling</th>\n",
       "      <th>use_residual</th>\n",
       "      <th>...</th>\n",
       "      <th>optimizer</th>\n",
       "      <th>lr</th>\n",
       "      <th>betas</th>\n",
       "      <th>save_every</th>\n",
       "      <th>eval_every</th>\n",
       "      <th>augment</th>\n",
       "      <th>epochs_trained</th>\n",
       "      <th>chamfer_loss</th>\n",
       "      <th>hausdorff_loss</th>\n",
       "      <th>model_size</th>\n",
       "    </tr>\n",
       "  </thead>\n",
       "  <tbody>\n",
       "  </tbody>\n",
       "</table>\n",
       "<p>0 rows × 28 columns</p>\n",
       "</div>"
      ],
      "text/plain": [
       "Empty DataFrame\n",
       "Columns: [name, r, k, dilations, n_idgcn_blocks, channels, n_dgcn_blocks, use_bottleneck, use_pooling, use_residual, conv, pool_type, path, num_point, skip_rate, use_randominput, batch_size, epochs, optimizer, lr, betas, save_every, eval_every, augment, epochs_trained, chamfer_loss, hausdorff_loss, model_size]\n",
       "Index: []\n",
       "\n",
       "[0 rows x 28 columns]"
      ]
     },
     "execution_count": 5,
     "metadata": {},
     "output_type": "execute_result"
    }
   ],
   "source": [
    "df"
   ]
  },
  {
   "cell_type": "code",
   "execution_count": 6,
   "id": "a27efdb4-47e7-4452-980e-b2a7b01aa63e",
   "metadata": {},
   "outputs": [],
   "source": [
    "for f in os.listdir(results_dir):\n",
    "    # Load yaml files\n",
    "    if f.endswith(\".yaml\"):\n",
    "        \n",
    "        d = OmegaConf.create()\n",
    "        conf = OmegaConf.load(os.path.join(results_dir, f))\n",
    "        d.name = conf.get(\"name\", \"unnamed\")\n",
    "        d.update(conf.model_config)\n",
    "        d.update(conf.data_config)\n",
    "        d.update(conf.train_config)\n",
    "        d.update(conf.results)\n",
    "        df2 = pd.DataFrame.from_dict(d, orient = \"index\").T\n",
    "        df = pd.concat([df, df2])\n",
    "\n",
    "        "
   ]
  },
  {
   "cell_type": "code",
   "execution_count": 22,
   "id": "f0e88791-3902-472e-a810-c3b8704d9f4b",
   "metadata": {},
   "outputs": [
    {
     "data": {
      "text/html": [
       "<div>\n",
       "<style scoped>\n",
       "    .dataframe tbody tr th:only-of-type {\n",
       "        vertical-align: middle;\n",
       "    }\n",
       "\n",
       "    .dataframe tbody tr th {\n",
       "        vertical-align: top;\n",
       "    }\n",
       "\n",
       "    .dataframe thead th {\n",
       "        text-align: right;\n",
       "    }\n",
       "</style>\n",
       "<table border=\"1\" class=\"dataframe\">\n",
       "  <thead>\n",
       "    <tr style=\"text-align: right;\">\n",
       "      <th></th>\n",
       "      <th>name</th>\n",
       "      <th>epochs_trained</th>\n",
       "      <th>chamfer_loss</th>\n",
       "      <th>hausdorff_loss</th>\n",
       "      <th>model_size</th>\n",
       "    </tr>\n",
       "  </thead>\n",
       "  <tbody>\n",
       "    <tr>\n",
       "      <th>0</th>\n",
       "      <td>pool_max</td>\n",
       "      <td>10</td>\n",
       "      <td>1.060408</td>\n",
       "      <td>57.271172</td>\n",
       "      <td>25.957</td>\n",
       "    </tr>\n",
       "    <tr>\n",
       "      <th>0</th>\n",
       "      <td>pool_mean</td>\n",
       "      <td>10</td>\n",
       "      <td>61.981631</td>\n",
       "      <td>416.667636</td>\n",
       "      <td>25.957</td>\n",
       "    </tr>\n",
       "    <tr>\n",
       "      <th>0</th>\n",
       "      <td>pool_add</td>\n",
       "      <td>10</td>\n",
       "      <td>3.73798</td>\n",
       "      <td>114.029146</td>\n",
       "      <td>25.957</td>\n",
       "    </tr>\n",
       "  </tbody>\n",
       "</table>\n",
       "</div>"
      ],
      "text/plain": [
       "        name epochs_trained chamfer_loss hausdorff_loss model_size\n",
       "0   pool_max             10     1.060408      57.271172     25.957\n",
       "0  pool_mean             10    61.981631     416.667636     25.957\n",
       "0   pool_add             10      3.73798     114.029146     25.957"
      ]
     },
     "execution_count": 22,
     "metadata": {},
     "output_type": "execute_result"
    }
   ],
   "source": [
    "mask = list(df['name'].str.startswith('pool'))\n",
    "df[mask][[\"name\"] + results_columns]"
   ]
  },
  {
   "cell_type": "code",
   "execution_count": null,
   "id": "717e9f7d-eac9-46d1-a8e6-9e011095f537",
   "metadata": {},
   "outputs": [],
   "source": []
  }
 ],
 "metadata": {
  "kernelspec": {
   "display_name": "Python 3 (ipykernel)",
   "language": "python",
   "name": "python3"
  },
  "language_info": {
   "codemirror_mode": {
    "name": "ipython",
    "version": 3
   },
   "file_extension": ".py",
   "mimetype": "text/x-python",
   "name": "python",
   "nbconvert_exporter": "python",
   "pygments_lexer": "ipython3",
   "version": "3.9.7"
  }
 },
 "nbformat": 4,
 "nbformat_minor": 5
}
