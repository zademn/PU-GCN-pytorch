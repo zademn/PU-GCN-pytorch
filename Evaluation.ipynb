{
 "cells": [
  {
   "cell_type": "code",
   "execution_count": 1,
   "id": "3b90a24f-89db-40d9-92cf-5fb88ba5c11b",
   "metadata": {},
   "outputs": [
    {
     "name": "stdout",
     "output_type": "stream",
     "text": [
      "Jupyter environment detected. Enabling Open3D WebVisualizer.\n",
      "[Open3D INFO] WebRTC GUI backend enabled.\n",
      "[Open3D INFO] WebRTCWindowSystem: HTTP handshake server disabled.\n",
      "Jitting Chamfer 3D\n"
     ]
    },
    {
     "name": "stderr",
     "output_type": "stream",
     "text": [
      "/home/zademn/.conda/envs/pytorch_env/lib/python3.9/site-packages/torch/utils/cpp_extension.py:295: UserWarning: \n",
      "\n",
      "                               !! WARNING !!\n",
      "\n",
      "!!!!!!!!!!!!!!!!!!!!!!!!!!!!!!!!!!!!!!!!!!!!!!!!!!!!!!!!!!!!!!!!!!!!!!!!!!!!!!!\n",
      "Your compiler (c++) is not compatible with the compiler Pytorch was\n",
      "built with for this platform, which is g++ on linux. Please\n",
      "use g++ to to compile your extension. Alternatively, you may\n",
      "compile PyTorch from source using c++, and then you can also use\n",
      "c++ to compile your extension.\n",
      "\n",
      "See https://github.com/pytorch/pytorch/blob/master/CONTRIBUTING.md for help\n",
      "with compiling PyTorch from source.\n",
      "!!!!!!!!!!!!!!!!!!!!!!!!!!!!!!!!!!!!!!!!!!!!!!!!!!!!!!!!!!!!!!!!!!!!!!!!!!!!!!!\n",
      "\n",
      "                              !! WARNING !!\n",
      "\n",
      "  warnings.warn(WRONG_COMPILER_WARNING.format(\n"
     ]
    },
    {
     "name": "stdout",
     "output_type": "stream",
     "text": [
      "Loaded JIT 3D CUDA chamfer distance\n"
     ]
    }
   ],
   "source": [
    "import os\n",
    "\n",
    "import matplotlib.pyplot as plt\n",
    "import numpy as np\n",
    "import open3d as o3d\n",
    "import torch\n",
    "from omegaconf import OmegaConf\n",
    "from tqdm.notebook import tqdm, trange\n",
    "from utils.data import load_xyz_file\n",
    "from utils.losses import chamfer_dist, density_chamfer_dist\n",
    "from utils.viz import viz_many, viz_many_mpl"
   ]
  },
  {
   "cell_type": "markdown",
   "id": "26d6df23-b471-4e58-88fa-2b9ea4377f2c",
   "metadata": {},
   "source": [
    "# Load model\n",
    "\n",
    "Load a model from checkpoint and evaluate with it "
   ]
  },
  {
   "cell_type": "code",
   "execution_count": 2,
   "id": "8521d90c-8ae7-4421-90ea-27f87d4de023",
   "metadata": {},
   "outputs": [
    {
     "data": {
      "text/plain": [
       "['.ipynb_checkpoints',\n",
       " '2022-03-15-15-48-pool_max',\n",
       " '2022-03-15-22-45-pool_mean',\n",
       " '2022-03-16-09-00-pool_add',\n",
       " '2022-03-16-15-40-conv_gat',\n",
       " '2022-03-17-11-23-conv_edge',\n",
       " '2022-03-30-18-29-pugnn-gat-1',\n",
       " '2022-03-30-19-08-pugnn-gat-2-heads',\n",
       " '2022-03-30-20-11-pugnn-radius-0.25',\n",
       " '2022-04-05-16-58-pupt-baseline',\n",
       " '2022-04-05-19-29-pupt-baseline-refined',\n",
       " '2022-04-06-10-37-pugcn-baseline-refiner-transformer',\n",
       " '2022-04-06-11-50-pugcn-baseline',\n",
       " '2022-04-06-12-23-pugcn-baseline-36',\n",
       " '2022-04-06-13-10-pugcn-baseline-2idgcn',\n",
       " '2022-04-06-13-48-pugcn-baseline-3dilations',\n",
       " '2022-04-06-14-35-pupt-baseline-36',\n",
       " '2022-04-06-15-36-pupt-baseline-2ipt',\n",
       " '2022-04-06-16-12-pupt-baseline-3dilations',\n",
       " '2022-04-06-16-55-pupt-baseline',\n",
       " '2022-04-06-19-14-pupt-baseline-add-points',\n",
       " '2022-05-14-14-42-pupt-baseline',\n",
       " '2022-05-17-13-42-pugcn-baseline',\n",
       " '2022-05-17-14-59-pupt-baseline',\n",
       " '2022-05-17-17-07-pupt-baseline-no-refiner',\n",
       " '2022-05-17-17-41-pugcn-baseline-no-refiner',\n",
       " '2022-05-17-19-00-pugcn-baseline-simple-global',\n",
       " '2022-05-17-20-06-pupt-baseline-simple-global',\n",
       " '2022-05-17-21-16-pugcn-baseline-big',\n",
       " '2022-05-18-11-55-pupt-baseline-big',\n",
       " '2022-05-18-13-35-pugcn-baseline',\n",
       " '2022-05-19-17-49-pugcn-baseline',\n",
       " '2022-05-20-13-30-pugcn-baseline-small',\n",
       " '2022-05-20-13-54-pugcn-baseline-mean',\n",
       " '2022-05-20-15-16-pugcn-baseline-add',\n",
       " '2022-05-20-16-16-pugcn-baseline-inception-refiner',\n",
       " '2022-05-20-18-27-pugcn-baseline-inception-alpha-0_5',\n",
       " '2022-05-22-12-49-pugcn-baseline-dcd',\n",
       " '2022-05-22-13-30-pugcn-baseline-refiner-r*k-neighbours',\n",
       " '2022-05-31-17-05-pugcn-baseline-duplicate',\n",
       " '2022-06-01-12-13-pugcn-baseline-variational',\n",
       " '2022-06-01-12-41-pugcn-baseline-variational2',\n",
       " '2022-06-04-11-30-pugcn-baseline-max',\n",
       " '2022-06-04-12-03-pugcn-baseline2-max',\n",
       " '2022-06-04-13-11-pugcn-baseline3-max',\n",
       " '2022-06-04-13-44-pugcn-baseline-mean',\n",
       " '2022-06-04-16-20-pugcn-baseline',\n",
       " '2022-06-04-17-11-ju-baseline',\n",
       " '2022-06-04-17-55-pugcn-baseline-12channels',\n",
       " '2022-06-04-18-30-pugcn-baseline-36channels',\n",
       " '2022-06-04-19-38-pugcn-baseline-2idgcn',\n",
       " '2022-06-04-20-38-pugcn-baseline-3idgcn',\n",
       " '2022-06-04-22-25-pugcn-baseline-gcn',\n",
       " '2022-06-04-22-56-pugcn-baseline-gat',\n",
       " '2022-06-04-23-40-pugcn-baseline-sage',\n",
       " '2022-06-05-10-50-pugcn-baseline-pointnet',\n",
       " '2022-06-05-11-34-pugcn-baseline-pointtransformer',\n",
       " '2022-06-05-13-08-pugcn-baseline-bottleneck-pooling',\n",
       " '2022-06-05-13-59-pugcn-baseline-bottleneck-nores-nopooling',\n",
       " '2022-06-05-14-55-pugcn-baseline-bottleneck-noeverything',\n",
       " '2022-06-05-16-13-pugcn-baseline-dcd',\n",
       " '2022-06-05-18-25-pugcn-baseline-refiner',\n",
       " '2022-06-06-10-59-pugcn-baseline-cdrep8',\n",
       " '2022-06-06-12-15-pugcn-baseline-cdrep4',\n",
       " '2022-06-06-13-45-ju-baseline',\n",
       " '2022-06-06-14-27-pugcn-baseline-hierarchical',\n",
       " '2022-06-06-15-04-pugcn-baseline',\n",
       " '2022-06-06-19-22-pugcn-baseline-alpha05',\n",
       " '2022-06-06-19-23-pugcn-baseline-alpha05',\n",
       " '2022-06-06-23-29-pugcn-baseline-pointtransformer',\n",
       " '2022-06-07-11-03-pugcn-baseline-alphavar',\n",
       " '2022-06-07-13-18-ju-baseline2',\n",
       " '2022-06-07-20-49-pugcn-baseline-variational',\n",
       " '2022-06-07-21-40-pugcn-baseline-alphavar']"
      ]
     },
     "execution_count": 2,
     "metadata": {},
     "output_type": "execute_result"
    }
   ],
   "source": [
    "sorted(os.listdir(\"trained-models/\"))"
   ]
  },
  {
   "cell_type": "code",
   "execution_count": 23,
   "id": "0bcd6e0c-3b5b-423d-9286-935d4d3e4f4e",
   "metadata": {},
   "outputs": [],
   "source": [
    "# d = os.listdir(os.path.join(\"trained-models\"))[0]\n",
    "ckpt_dir = sorted(os.listdir(\"trained-models\"))[-9]"
   ]
  },
  {
   "cell_type": "code",
   "execution_count": 24,
   "id": "92c3c009-7e9f-4df7-a20b-0c52a167be14",
   "metadata": {},
   "outputs": [
    {
     "data": {
      "text/plain": [
       "'2022-06-06-14-27-pugcn-baseline-hierarchical'"
      ]
     },
     "execution_count": 24,
     "metadata": {},
     "output_type": "execute_result"
    }
   ],
   "source": [
    "ckpt_dir"
   ]
  },
  {
   "cell_type": "code",
   "execution_count": 25,
   "id": "435d85ba-8786-45ec-8b84-773c4dc3dc2b",
   "metadata": {},
   "outputs": [
    {
     "data": {
      "text/plain": [
       "['ckpt_epoch_10', 'ckpt_epoch_1', 'ckpt_epoch_5', 'config.yaml']"
      ]
     },
     "execution_count": 25,
     "metadata": {},
     "output_type": "execute_result"
    }
   ],
   "source": [
    "os.listdir(os.path.join(\"trained-models\", ckpt_dir))"
   ]
  },
  {
   "cell_type": "code",
   "execution_count": 26,
   "id": "5af34504-63ee-4525-829d-152ef97fe03b",
   "metadata": {},
   "outputs": [
    {
     "name": "stdout",
     "output_type": "stream",
     "text": [
      "{'name': 'pugcn-baseline-hierarchical', 'model_config': {'r': 4, 'k': 20, 'dilations': [1, 2], 'n_idgcn_blocks': 1, 'channels': 24, 'n_dgcn_blocks': 2, 'use_bottleneck': True, 'use_pooling': True, 'use_residual': True, 'conv': 'edge', 'pool_type': 'mean', 'dynamic': False, 'use_refiner': False, 'upsampler': 'nodeshuffle', 'hierarchical': True}, 'train_config': {'batch_size': 8, 'epochs': 10, 'optimizer': 'adam', 'lr': 0.001, 'betas': [0.9, 0.999], 'save_every': 5, 'augment': True, 'loss_fn': 'cd', 'k_loss': 4}, 'data_config': {'path': '../data/PU1K/train/pu1k_poisson_256_poisson_1024_pc_2500_patch50_addpugan.h5', 'num_point': 256, 'skip_rate': 1, 'use_randominput': True, 'rng_seed': 42}}\n"
     ]
    }
   ],
   "source": [
    "exp_conf = OmegaConf.load(os.path.join(\"trained-models\", ckpt_dir, \"config.yaml\"))\n",
    "print(exp_conf)"
   ]
  },
  {
   "cell_type": "code",
   "execution_count": 27,
   "id": "d9c7ce54-12a5-48dc-9374-39fc89db8453",
   "metadata": {},
   "outputs": [],
   "source": [
    "ckpt_name = \"ckpt_epoch_10\""
   ]
  },
  {
   "cell_type": "code",
   "execution_count": 28,
   "id": "e4f15de1-60bd-4ae1-a587-e8ee0c316174",
   "metadata": {},
   "outputs": [],
   "source": [
    "checkpoint = torch.load(os.path.join(\"trained-models\", ckpt_dir, ckpt_name))"
   ]
  },
  {
   "cell_type": "code",
   "execution_count": 29,
   "id": "30db615f-6c00-4e75-be5a-2d7a42848cb0",
   "metadata": {},
   "outputs": [],
   "source": [
    "history = OmegaConf.create(checkpoint[\"history\"])"
   ]
  },
  {
   "cell_type": "code",
   "execution_count": 30,
   "id": "4592e4a6-b6db-49c3-8b0f-eccde3ecc3aa",
   "metadata": {},
   "outputs": [
    {
     "data": {
      "text/plain": [
       "[<matplotlib.lines.Line2D at 0x7fd7d89d87c0>]"
      ]
     },
     "execution_count": 30,
     "metadata": {},
     "output_type": "execute_result"
    },
    {
     "data": {
      "image/png": "[encoded data removed]",
      "text/plain": [
       "<Figure size 432x288 with 1 Axes>"
      ]
     },
     "metadata": {
      "needs_background": "light"
     },
     "output_type": "display_data"
    }
   ],
   "source": [
    "plt.plot(history.train_loss)"
   ]
  },
  {
   "cell_type": "code",
   "execution_count": 31,
   "id": "4af0a39b-1ff9-4a5a-9227-1192b819fbb9",
   "metadata": {},
   "outputs": [],
   "source": [
    "model_config = exp_conf.model_config"
   ]
  },
  {
   "cell_type": "code",
   "execution_count": 32,
   "id": "c0a2b70a-fdb4-4f0b-b5b2-d0563472bd89",
   "metadata": {},
   "outputs": [
    {
     "data": {
      "text/plain": [
       "{'r': 4, 'k': 20, 'dilations': [1, 2], 'n_idgcn_blocks': 1, 'channels': 24, 'n_dgcn_blocks': 2, 'use_bottleneck': True, 'use_pooling': True, 'use_residual': True, 'conv': 'edge', 'pool_type': 'mean', 'dynamic': False, 'use_refiner': False, 'upsampler': 'nodeshuffle', 'hierarchical': True}"
      ]
     },
     "execution_count": 32,
     "metadata": {},
     "output_type": "execute_result"
    }
   ],
   "source": [
    "model_config"
   ]
  },
  {
   "cell_type": "code",
   "execution_count": 33,
   "id": "17cb402a-9cf1-43f8-bd6c-80843d08b25b",
   "metadata": {},
   "outputs": [],
   "source": [
    "from pugcn_lib.models import PUGCN, JustUpsample, PUInceptionTransformer"
   ]
  },
  {
   "cell_type": "code",
   "execution_count": 34,
   "id": "073f1922-2fe0-4434-9aee-bca1fd751917",
   "metadata": {},
   "outputs": [
    {
     "data": {
      "text/plain": [
       "<All keys matched successfully>"
      ]
     },
     "execution_count": 34,
     "metadata": {},
     "output_type": "execute_result"
    }
   ],
   "source": [
    "model = PUGCN(**model_config)\n",
    "# model = PUInceptionTransformer(**model_config)\n",
    "# model = JustUpsample(**model_config)\n",
    "\n",
    "model.load_state_dict(checkpoint[\"model_state_dict\"])"
   ]
  },
  {
   "cell_type": "markdown",
   "id": "c1dbf757-526b-4d66-b613-701a97d6cfd2",
   "metadata": {},
   "source": [
    "# Qualitative"
   ]
  },
  {
   "cell_type": "code",
   "execution_count": 35,
   "id": "91ee3b03-26cd-4167-9920-6eee14317128",
   "metadata": {},
   "outputs": [],
   "source": [
    "input_dir = os.path.join(\"..\", \"data\", \"PU1K\", \"test\", \"input_256\", \"input_256\")\n",
    "gt_dir = os.path.join(\"..\", \"data\", \"PU1K\", \"test\", \"input_256\", \"gt_1024\")"
   ]
  },
  {
   "cell_type": "code",
   "execution_count": 36,
   "id": "e751a9db-d509-460a-9d38-e8cffbfd685c",
   "metadata": {},
   "outputs": [],
   "source": [
    "file = \"horse.xyz\"\n",
    "data = load_xyz_file(os.path.join(input_dir, file))\n",
    "gt = load_xyz_file(os.path.join(gt_dir, file))\n",
    "data = torch.tensor(data, dtype=torch.float32)\n",
    "gt = torch.tensor(gt, dtype=torch.float32)"
   ]
  },
  {
   "cell_type": "code",
   "execution_count": 37,
   "id": "c13a5594-5e7c-4ba6-9276-22a9a7c5235d",
   "metadata": {},
   "outputs": [],
   "source": [
    "out = model(data).detach()"
   ]
  },
  {
   "cell_type": "code",
   "execution_count": 38,
   "id": "1c63286f-94e2-4bba-9121-6c1319b42b89",
   "metadata": {},
   "outputs": [],
   "source": [
    "# o3d\n",
    "viz_many([data.numpy(), gt.numpy(), out.numpy()])"
   ]
  },
  {
   "cell_type": "code",
   "execution_count": 19,
   "id": "1d5dc3b7-54e8-4e27-b810-f0b8b3731442",
   "metadata": {},
   "outputs": [
    {
     "data": {
      "image/png": "[encoded data removed]",
      "text/plain": [
       "<Figure size 504x504 with 1 Axes>"
      ]
     },
     "metadata": {
      "needs_background": "light"
     },
     "output_type": "display_data"
    }
   ],
   "source": [
    "fig = plt.figure(figsize=(7, 7))\n",
    "ax = plt.axes(projection=\"3d\")\n",
    "viz_many_mpl([data.numpy(), gt.numpy(), out.numpy()], ax=ax)"
   ]
  },
  {
   "cell_type": "code",
   "execution_count": 20,
   "id": "1adfd470-3935-460f-974a-4c6793957569",
   "metadata": {},
   "outputs": [
    {
     "data": {
      "text/plain": [
       "False"
      ]
     },
     "execution_count": 20,
     "metadata": {},
     "output_type": "execute_result"
    }
   ],
   "source": [
    "## Save pic\n",
    "v = o3d.visualization.Visualizer()\n",
    "pcd = o3d.geometry.PointCloud()\n",
    "pcd.points = o3d.utility.Vector3dVector(data.numpy())\n",
    "v.add_geometry(pcd)"
   ]
  },
  {
   "cell_type": "code",
   "execution_count": 21,
   "id": "06e8dc90-8b27-438a-a7b4-c422f0eaf380",
   "metadata": {},
   "outputs": [],
   "source": [
    "# v.capture_screen_image(\"test.png\")"
   ]
  },
  {
   "cell_type": "markdown",
   "id": "74171e73-ea16-4bcd-8382-2594588c1354",
   "metadata": {},
   "source": [
    "# Quantitative"
   ]
  },
  {
   "cell_type": "code",
   "execution_count": 39,
   "id": "4ea16797-5f00-4d9b-a7d2-12c86a196998",
   "metadata": {},
   "outputs": [],
   "source": [
    "import torch\n",
    "from einops import rearrange, reduce\n",
    "from gcn_lib.sparse.torch_edge import Dilated"
   ]
  },
  {
   "cell_type": "code",
   "execution_count": 40,
   "id": "917b4482-b378-43b4-8a13-c5d0cc4ea24f",
   "metadata": {},
   "outputs": [],
   "source": [
    "from time import time\n",
    "\n",
    "from utils.losses import (\n",
    "    chamfer_dist,\n",
    "    chamfer_dist_repulsion,\n",
    "    density_chamfer_dist,\n",
    "    hausdorff_loss,\n",
    ")"
   ]
  },
  {
   "cell_type": "code",
   "execution_count": 41,
   "id": "5c02936e-6683-4b43-a0fb-49059e503d2c",
   "metadata": {},
   "outputs": [
    {
     "data": {
      "application/vnd.jupyter.widget-view+json": {
       "model_id": "413d905101774a30b71d9fdad65cf5c3",
       "version_major": 2,
       "version_minor": 0
      },
      "text/plain": [
       "  0%|          | 0/127 [00:00<?, ?it/s]"
      ]
     },
     "metadata": {},
     "output_type": "display_data"
    }
   ],
   "source": [
    "chamfer_losses = []\n",
    "hausdorff_losses = []\n",
    "dcds = []\n",
    "for file in tqdm(os.listdir(input_dir)):\n",
    "    # Load files\n",
    "    data = load_xyz_file(os.path.join(input_dir, file))\n",
    "    gt = load_xyz_file(os.path.join(gt_dir, file))\n",
    "    data = torch.tensor(data, dtype=torch.float32)\n",
    "    gt = torch.tensor(gt, dtype=torch.float32)\n",
    "    # predict\n",
    "    t = time()\n",
    "    out = model(data)\n",
    "    t = time() - t\n",
    "\n",
    "    # chamfer\n",
    "    dcd, _, cd = density_chamfer_dist(out.unsqueeze(0).cuda(), gt.unsqueeze(0).cuda(), alpha=1000, n_lambda=0.5)\n",
    "    chamfer_losses.append(cd.item())\n",
    "    dcds.append(dcd.item())\n",
    "\n",
    "    # hausdorff\n",
    "\n",
    "    loss = hausdorff_loss(out.detach(), gt.detach())\n",
    "    hausdorff_losses.append(loss)"
   ]
  },
  {
   "cell_type": "code",
   "execution_count": 42,
   "id": "b30130f0-9389-4f3f-b2b0-12d7585b011d",
   "metadata": {},
   "outputs": [
    {
     "name": "stdout",
     "output_type": "stream",
     "text": [
      "CD =  0.9151282833703962\n",
      "DCD =  0.4014694742330416\n",
      "HD =  54.31454253819575\n",
      "Inference time =  15.903234481811523\n",
      "Model size =  29.48\n"
     ]
    }
   ],
   "source": [
    "print(\"CD = \", np.mean(chamfer_losses) * 10**3)\n",
    "print(\"DCD = \", np.mean(dcds))\n",
    "print(\"HD = \", np.mean(hausdorff_losses) * 10**3)\n",
    "print(\"Inference time = \", t * 1000)\n",
    "print(\"Model size = \", checkpoint[\"model_size\"])"
   ]
  },
  {
   "cell_type": "code",
   "execution_count": 26,
   "id": "0b520c7a-400f-4695-8b05-c4e47a7605ce",
   "metadata": {},
   "outputs": [],
   "source": [
    "t = OmegaConf.create(\n",
    "    {\n",
    "        \"epochs_trained\": checkpoint[\"epoch\"],\n",
    "        \"chamfer_loss\": float(np.mean(chamfer_losses) * 10**3),\n",
    "        \"density_aware_chamfer_loss\": float(np.mean(dcds) * 10**3),\n",
    "        \"hausdorff_loss\": float(np.mean(hausdorff_losses) * 10**3),\n",
    "        \"model_size\": checkpoint[\"model_size\"],\n",
    "        \"inference_time\": t,\n",
    "    }\n",
    ")"
   ]
  },
  {
   "cell_type": "code",
   "execution_count": 27,
   "id": "2da2c470-039e-4630-a3ca-b7acdb18b749",
   "metadata": {},
   "outputs": [
    {
     "name": "stdout",
     "output_type": "stream",
     "text": [
      "name: ju-baseline2\n",
      "model_config:\n",
      "  r: 4\n",
      "  k: 20\n",
      "  dilations:\n",
      "  - 1\n",
      "  - 2\n",
      "  channels: 24\n",
      "  conv: edge\n",
      "  use_refiner: false\n",
      "  upsampler: nodeshuffle\n",
      "  hierarchical: false\n",
      "  use_bottleneck: true\n",
      "  use_global: true\n",
      "train_config:\n",
      "  batch_size: 8\n",
      "  epochs: 10\n",
      "  optimizer: adam\n",
      "  lr: 0.001\n",
      "  betas:\n",
      "  - 0.9\n",
      "  - 0.999\n",
      "  save_every: 5\n",
      "  augment: true\n",
      "  loss_fn: cd\n",
      "data_config:\n",
      "  path: ../data/PU1K/train/pu1k_poisson_256_poisson_1024_pc_2500_patch50_addpugan.h5\n",
      "  num_point: 256\n",
      "  skip_rate: 1\n",
      "  use_randominput: true\n",
      "  rng_seed: 42\n",
      "\n"
     ]
    }
   ],
   "source": [
    "print(OmegaConf.to_yaml(exp_conf))"
   ]
  },
  {
   "cell_type": "code",
   "execution_count": 28,
   "id": "1ffbc1c0-9aaf-4565-9ca0-f7bcbfdd1be5",
   "metadata": {},
   "outputs": [],
   "source": [
    "results = exp_conf\n",
    "results.results = t"
   ]
  },
  {
   "cell_type": "code",
   "execution_count": 29,
   "id": "abba3c24-b364-407a-9e29-86bd40bd5c6f",
   "metadata": {},
   "outputs": [],
   "source": [
    "OmegaConf.save(config=results, f=os.path.join(\"results\", f\"results-{ckpt_dir}-{ckpt_name}.yaml\"))"
   ]
  },
  {
   "cell_type": "code",
   "execution_count": null,
   "id": "6a4fe236-31cc-4d18-a955-b6d14dea8ba3",
   "metadata": {},
   "outputs": [],
   "source": []
  }
 ],
 "metadata": {
  "kernelspec": {
   "display_name": "Python 3 (ipykernel)",
   "language": "python",
   "name": "python3"
  },
  "language_info": {
   "codemirror_mode": {
    "name": "ipython",
    "version": 3
   },
   "file_extension": ".py",
   "mimetype": "text/x-python",
   "name": "python",
   "nbconvert_exporter": "python",
   "pygments_lexer": "ipython3",
   "version": "3.9.7"
  }
 },
 "nbformat": 4,
 "nbformat_minor": 5
}
