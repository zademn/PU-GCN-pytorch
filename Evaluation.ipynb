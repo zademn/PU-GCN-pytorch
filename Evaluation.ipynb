{
 "cells": [
  {
   "cell_type": "code",
   "execution_count": 77,
   "id": "3b90a24f-89db-40d9-92cf-5fb88ba5c11b",
   "metadata": {},
   "outputs": [],
   "source": [
    "import numpy as np\n",
    "import torch\n",
    "import os\n",
    "\n",
    "from tqdm.notebook import tqdm, trange\n",
    "import open3d as o3d\n",
    "\n",
    "from utils.data import load_xyz_file\n",
    "from ChamferDistancePytorch.chamfer3D.dist_chamfer_3D import chamfer_3DDist as ChamferLoss\n",
    "\n",
    "from utils.viz import viz_many, viz_many_mpl\n",
    "import matplotlib.pyplot as plt\n",
    "\n",
    "from omegaconf import OmegaConf\n"
   ]
  },
  {
   "cell_type": "markdown",
   "id": "26d6df23-b471-4e58-88fa-2b9ea4377f2c",
   "metadata": {},
   "source": [
    "# Load model\n",
    "\n",
    "Load a model from checkpoint and evaluate with it "
   ]
  },
  {
   "cell_type": "code",
   "execution_count": 78,
   "id": "8521d90c-8ae7-4421-90ea-27f87d4de023",
   "metadata": {},
   "outputs": [
    {
     "data": {
      "text/plain": [
       "['.ipynb_checkpoints',\n",
       " '2022-03-15-15-48-pool_max',\n",
       " '2022-03-15-22-45-pool_mean',\n",
       " '2022-03-16-09-00-pool_add',\n",
       " '2022-03-16-15-40-conv_gat',\n",
       " '2022-03-17-11-23-conv_edge',\n",
       " '2022-03-30-18-29-pugnn-gat-1',\n",
       " '2022-03-30-19-08-pugnn-gat-2-heads',\n",
       " '2022-03-30-20-11-pugnn-radius-0.25',\n",
       " '2022-04-05-16-58-pupt-baseline',\n",
       " '2022-04-05-19-29-pupt-baseline-refined',\n",
       " '2022-04-06-10-37-pugcn-baseline-refiner-transformer',\n",
       " '2022-04-06-11-50-pugcn-baseline',\n",
       " '2022-04-06-12-23-pugcn-baseline-36',\n",
       " '2022-04-06-13-10-pugcn-baseline-2idgcn',\n",
       " '2022-04-06-13-48-pugcn-baseline-3dilations',\n",
       " '2022-04-06-14-35-pupt-baseline-36',\n",
       " '2022-04-06-15-36-pupt-baseline-2ipt',\n",
       " '2022-04-06-16-12-pupt-baseline-3dilations',\n",
       " '2022-04-06-16-55-pupt-baseline']"
      ]
     },
     "execution_count": 78,
     "metadata": {},
     "output_type": "execute_result"
    }
   ],
   "source": [
    "sorted(os.listdir(\"trained-models/\"))"
   ]
  },
  {
   "cell_type": "code",
   "execution_count": 79,
   "id": "0bcd6e0c-3b5b-423d-9286-935d4d3e4f4e",
   "metadata": {},
   "outputs": [],
   "source": [
    "#d = os.listdir(os.path.join(\"trained-models\"))[0]\n",
    "ckpt_dir = sorted(os.listdir(\"trained-models\"))[-1]\n"
   ]
  },
  {
   "cell_type": "code",
   "execution_count": 80,
   "id": "92c3c009-7e9f-4df7-a20b-0c52a167be14",
   "metadata": {},
   "outputs": [
    {
     "data": {
      "text/plain": [
       "'2022-04-06-16-55-pupt-baseline'"
      ]
     },
     "execution_count": 80,
     "metadata": {},
     "output_type": "execute_result"
    }
   ],
   "source": [
    "ckpt_dir"
   ]
  },
  {
   "cell_type": "code",
   "execution_count": 81,
   "id": "435d85ba-8786-45ec-8b84-773c4dc3dc2b",
   "metadata": {},
   "outputs": [
    {
     "data": {
      "text/plain": [
       "['ckpt_epoch_10', 'ckpt_epoch_1', 'ckpt_epoch_5', 'config.yaml']"
      ]
     },
     "execution_count": 81,
     "metadata": {},
     "output_type": "execute_result"
    }
   ],
   "source": [
    "os.listdir(os.path.join(\"trained-models\", ckpt_dir))"
   ]
  },
  {
   "cell_type": "code",
   "execution_count": 82,
   "id": "5af34504-63ee-4525-829d-152ef97fe03b",
   "metadata": {},
   "outputs": [
    {
     "name": "stdout",
     "output_type": "stream",
     "text": [
      "{'name': 'pupt-baseline', 'model_config': {'r': 4, 'k': 20, 'dilations': [1, 2], 'n_ipt_blocks': 1, 'channels': 24, 'use_bottleneck': True, 'use_pooling': True, 'use_residual': True, 'pool_type': 'max', 'dynamic': False, 'use_refiner': False}, 'train_config': {'batch_size': 8, 'epochs': 10, 'optimizer': 'adam', 'lr': 0.001, 'betas': [0.9, 0.999], 'save_every': 5, 'eval_every': 5, 'augment': True}, 'data_config': {'path': '../data/PU1K/train/pu1k_poisson_256_poisson_1024_pc_2500_patch50_addpugan.h5', 'num_point': 256, 'skip_rate': 1, 'use_randominput': True, 'rng_seed': 42}}\n"
     ]
    }
   ],
   "source": [
    "exp_conf = OmegaConf.load(os.path.join(\"trained-models\", ckpt_dir, \"config.yaml\"))\n",
    "print(exp_conf)"
   ]
  },
  {
   "cell_type": "code",
   "execution_count": 83,
   "id": "d9c7ce54-12a5-48dc-9374-39fc89db8453",
   "metadata": {},
   "outputs": [],
   "source": [
    "ckpt_name = \"ckpt_epoch_10\""
   ]
  },
  {
   "cell_type": "code",
   "execution_count": 84,
   "id": "e4f15de1-60bd-4ae1-a587-e8ee0c316174",
   "metadata": {},
   "outputs": [],
   "source": [
    "checkpoint = torch.load(os.path.join(\"trained-models\", ckpt_dir, ckpt_name))"
   ]
  },
  {
   "cell_type": "code",
   "execution_count": 85,
   "id": "30db615f-6c00-4e75-be5a-2d7a42848cb0",
   "metadata": {},
   "outputs": [],
   "source": [
    "history = OmegaConf.create(checkpoint[\"history\"])"
   ]
  },
  {
   "cell_type": "code",
   "execution_count": 86,
   "id": "4592e4a6-b6db-49c3-8b0f-eccde3ecc3aa",
   "metadata": {},
   "outputs": [
    {
     "data": {
      "text/plain": [
       "[<matplotlib.lines.Line2D at 0x7f20933eb700>]"
      ]
     },
     "execution_count": 86,
     "metadata": {},
     "output_type": "execute_result"
    },
    {
     "data": {
      "image/png": "[encoded data removed]",
      "text/plain": [
       "<Figure size 432x288 with 1 Axes>"
      ]
     },
     "metadata": {
      "needs_background": "light"
     },
     "output_type": "display_data"
    }
   ],
   "source": [
    "plt.plot(history.train_loss)"
   ]
  },
  {
   "cell_type": "code",
   "execution_count": 87,
   "id": "4af0a39b-1ff9-4a5a-9227-1192b819fbb9",
   "metadata": {},
   "outputs": [],
   "source": [
    "model_config = exp_conf.model_config"
   ]
  },
  {
   "cell_type": "code",
   "execution_count": 88,
   "id": "c0a2b70a-fdb4-4f0b-b5b2-d0563472bd89",
   "metadata": {},
   "outputs": [
    {
     "data": {
      "text/plain": [
       "{'r': 4, 'k': 20, 'dilations': [1, 2], 'n_ipt_blocks': 1, 'channels': 24, 'use_bottleneck': True, 'use_pooling': True, 'use_residual': True, 'pool_type': 'max', 'dynamic': False, 'use_refiner': False}"
      ]
     },
     "execution_count": 88,
     "metadata": {},
     "output_type": "execute_result"
    }
   ],
   "source": [
    "model_config"
   ]
  },
  {
   "cell_type": "code",
   "execution_count": 89,
   "id": "17cb402a-9cf1-43f8-bd6c-80843d08b25b",
   "metadata": {},
   "outputs": [],
   "source": [
    "from pugcn_lib.models import PUGCN, PUGNN, PUGNNRadius, PUGCNRefinedTransformer, PUInceptionTransformer"
   ]
  },
  {
   "cell_type": "code",
   "execution_count": 90,
   "id": "073f1922-2fe0-4434-9aee-bca1fd751917",
   "metadata": {},
   "outputs": [
    {
     "data": {
      "text/plain": [
       "<All keys matched successfully>"
      ]
     },
     "execution_count": 90,
     "metadata": {},
     "output_type": "execute_result"
    }
   ],
   "source": [
    "#model = PUGCN(**model_config)\n",
    "model = PUInceptionTransformer(**model_config)\n",
    "#model = PUGNN(**model_config)\n",
    "#model = PUGNNRadius(**model_config)\n",
    "#model = PUGCNRefinedTransformer(**model_config)\n",
    "\n",
    "model.load_state_dict(checkpoint[\"model_state_dict\"])"
   ]
  },
  {
   "cell_type": "markdown",
   "id": "c1dbf757-526b-4d66-b613-701a97d6cfd2",
   "metadata": {},
   "source": [
    "# Qualitative"
   ]
  },
  {
   "cell_type": "code",
   "execution_count": 91,
   "id": "91ee3b03-26cd-4167-9920-6eee14317128",
   "metadata": {},
   "outputs": [],
   "source": [
    "input_dir = os.path.join(\"..\", \"data\", \"PU1K\", \"test\", \"input_256\", \"input_256\")\n",
    "gt_dir = os.path.join(\"..\", \"data\", \"PU1K\", \"test\", \"input_256\", \"gt_1024\")\n"
   ]
  },
  {
   "cell_type": "code",
   "execution_count": 92,
   "id": "e751a9db-d509-460a-9d38-e8cffbfd685c",
   "metadata": {},
   "outputs": [],
   "source": [
    "file = \"horse.xyz\"\n",
    "data = load_xyz_file(os.path.join(input_dir, file))\n",
    "gt = load_xyz_file(os.path.join(gt_dir, file))\n",
    "data = torch.tensor(data, dtype=torch.float32)\n",
    "gt = torch.tensor(gt, dtype=torch.float32)"
   ]
  },
  {
   "cell_type": "code",
   "execution_count": 93,
   "id": "c13a5594-5e7c-4ba6-9276-22a9a7c5235d",
   "metadata": {},
   "outputs": [],
   "source": [
    "out = model(data).detach()"
   ]
  },
  {
   "cell_type": "code",
   "execution_count": 94,
   "id": "1c63286f-94e2-4bba-9121-6c1319b42b89",
   "metadata": {},
   "outputs": [],
   "source": [
    "#o3d\n",
    "viz_many([data.numpy(), gt.numpy(), out.numpy()]) "
   ]
  },
  {
   "cell_type": "code",
   "execution_count": 76,
   "id": "1d5dc3b7-54e8-4e27-b810-f0b8b3731442",
   "metadata": {},
   "outputs": [
    {
     "ename": "RuntimeError",
     "evalue": "Can't call numpy() on Tensor that requires grad. Use tensor.detach().numpy() instead.",
     "output_type": "error",
     "traceback": [
      "\u001b[0;31m---------------------------------------------------------------------------\u001b[0m",
      "\u001b[0;31mRuntimeError\u001b[0m                              Traceback (most recent call last)",
      "Input \u001b[0;32mIn [76]\u001b[0m, in \u001b[0;36m<module>\u001b[0;34m\u001b[0m\n\u001b[1;32m      1\u001b[0m fig \u001b[38;5;241m=\u001b[39m plt\u001b[38;5;241m.\u001b[39mfigure(figsize \u001b[38;5;241m=\u001b[39m (\u001b[38;5;241m7\u001b[39m, \u001b[38;5;241m7\u001b[39m))\n\u001b[1;32m      2\u001b[0m ax \u001b[38;5;241m=\u001b[39m plt\u001b[38;5;241m.\u001b[39maxes(projection\u001b[38;5;241m=\u001b[39m\u001b[38;5;124m'\u001b[39m\u001b[38;5;124m3d\u001b[39m\u001b[38;5;124m'\u001b[39m)\n\u001b[0;32m----> 3\u001b[0m viz_many_mpl([data\u001b[38;5;241m.\u001b[39mnumpy(), gt\u001b[38;5;241m.\u001b[39mnumpy(), \u001b[43mout\u001b[49m\u001b[38;5;241;43m.\u001b[39;49m\u001b[43mnumpy\u001b[49m\u001b[43m(\u001b[49m\u001b[43m)\u001b[49m], ax\u001b[38;5;241m=\u001b[39max)\n",
      "\u001b[0;31mRuntimeError\u001b[0m: Can't call numpy() on Tensor that requires grad. Use tensor.detach().numpy() instead."
     ]
    },
    {
     "data": {
      "image/png": "[encoded data removed]",
      "text/plain": [
       "<Figure size 504x504 with 1 Axes>"
      ]
     },
     "metadata": {
      "needs_background": "light"
     },
     "output_type": "display_data"
    }
   ],
   "source": [
    "fig = plt.figure(figsize = (7, 7))\n",
    "ax = plt.axes(projection='3d')\n",
    "viz_many_mpl([data.numpy(), gt.numpy(), out.numpy()], ax=ax) "
   ]
  },
  {
   "cell_type": "markdown",
   "id": "74171e73-ea16-4bcd-8382-2594588c1354",
   "metadata": {},
   "source": [
    "# Quantitative"
   ]
  },
  {
   "cell_type": "code",
   "execution_count": 69,
   "id": "917b4482-b378-43b4-8a13-c5d0cc4ea24f",
   "metadata": {},
   "outputs": [],
   "source": [
    "from utils.losses import hausdorff_loss\n",
    "from time import time"
   ]
  },
  {
   "cell_type": "code",
   "execution_count": 70,
   "id": "5c02936e-6683-4b43-a0fb-49059e503d2c",
   "metadata": {},
   "outputs": [
    {
     "data": {
      "application/vnd.jupyter.widget-view+json": {
       "model_id": "528f3d6639ba4d49935e316e5177e249",
       "version_major": 2,
       "version_minor": 0
      },
      "text/plain": [
       "  0%|          | 0/127 [00:00<?, ?it/s]"
      ]
     },
     "metadata": {},
     "output_type": "display_data"
    }
   ],
   "source": [
    "chamfer_loss = ChamferLoss()\n",
    "\n",
    "chamfer_losses = []\n",
    "hausdorff_losses = []\n",
    "for file in tqdm(os.listdir(input_dir)):\n",
    "    # Load files\n",
    "    data = load_xyz_file(os.path.join(input_dir, file))\n",
    "    gt = load_xyz_file(os.path.join(gt_dir, file))\n",
    "    data = torch.tensor(data, dtype=torch.float32)\n",
    "    gt = torch.tensor(gt, dtype=torch.float32)\n",
    "    #predict\n",
    "    t = time()\n",
    "    out = model(data)\n",
    "    t = time() - t\n",
    "    \n",
    "    #chamfer\n",
    "    d1, d2, _, _ = chamfer_loss(out.unsqueeze(0).cuda(), gt.unsqueeze(0).cuda())\n",
    "    loss = d1.mean() + d2.mean()\n",
    "    chamfer_losses.append(loss.item())\n",
    "    \n",
    "    #hausdorff\n",
    "    \n",
    "    loss = hausdorff_loss(out.detach(), gt.detach())\n",
    "    hausdorff_losses.append(loss)\n",
    "    "
   ]
  },
  {
   "cell_type": "code",
   "execution_count": 71,
   "id": "b30130f0-9389-4f3f-b2b0-12d7585b011d",
   "metadata": {},
   "outputs": [
    {
     "name": "stdout",
     "output_type": "stream",
     "text": [
      "2.114317601035151\n",
      "84.59926401959716\n",
      "0.01249241828918457\n"
     ]
    }
   ],
   "source": [
    "print(np.mean(chamfer_losses) * 10**3)\n",
    "print(np.mean(hausdorff_losses) * 10**3)\n",
    "print(t)"
   ]
  },
  {
   "cell_type": "code",
   "execution_count": 72,
   "id": "0b520c7a-400f-4695-8b05-c4e47a7605ce",
   "metadata": {},
   "outputs": [],
   "source": [
    "t = OmegaConf.create(\n",
    "    {\n",
    "        \"epochs_trained\": checkpoint[\"epoch\"],\n",
    "        \"chamfer_loss\": float(np.mean(chamfer_losses) * 10**3),\n",
    "        \"hausdorff_loss\": float(np.mean(hausdorff_losses) * 10**3),\n",
    "        \"model_size\": checkpoint[\"model_size\"],\n",
    "        \"inference_time\": t\n",
    "    }\n",
    ")"
   ]
  },
  {
   "cell_type": "code",
   "execution_count": 73,
   "id": "2da2c470-039e-4630-a3ca-b7acdb18b749",
   "metadata": {},
   "outputs": [
    {
     "data": {
      "text/plain": [
       "{'name': 'pupt-baseline', 'model_config': {'r': 4, 'k': 20, 'dilations': [1, 2], 'n_ipt_blocks': 1, 'channels': 24, 'use_bottleneck': True, 'use_pooling': True, 'use_residual': True, 'pool_type': 'max', 'dynamic': False, 'use_refiner': False}, 'train_config': {'batch_size': 8, 'epochs': 10, 'optimizer': 'adam', 'lr': 0.001, 'betas': [0.9, 0.999], 'save_every': 5, 'eval_every': 5, 'augment': True}, 'data_config': {'path': '../data/PU1K/train/pu1k_poisson_256_poisson_1024_pc_2500_patch50_addpugan.h5', 'num_point': 256, 'skip_rate': 1, 'use_randominput': True, 'rng_seed': 42}}"
      ]
     },
     "execution_count": 73,
     "metadata": {},
     "output_type": "execute_result"
    }
   ],
   "source": [
    "exp_conf"
   ]
  },
  {
   "cell_type": "code",
   "execution_count": 74,
   "id": "1ffbc1c0-9aaf-4565-9ca0-f7bcbfdd1be5",
   "metadata": {},
   "outputs": [],
   "source": [
    "results = exp_conf\n",
    "results.results = t"
   ]
  },
  {
   "cell_type": "code",
   "execution_count": 75,
   "id": "abba3c24-b364-407a-9e29-86bd40bd5c6f",
   "metadata": {},
   "outputs": [],
   "source": [
    "OmegaConf.save(config=results, f = os.path.join(\"results\", f\"results-{ckpt_dir}-{ckpt_name}.yaml\"))"
   ]
  },
  {
   "cell_type": "code",
   "execution_count": null,
   "id": "aa85f471-7710-4c91-931b-e41604a3ee32",
   "metadata": {},
   "outputs": [],
   "source": []
  }
 ],
 "metadata": {
  "kernelspec": {
   "display_name": "Python 3 (ipykernel)",
   "language": "python",
   "name": "python3"
  },
  "language_info": {
   "codemirror_mode": {
    "name": "ipython",
    "version": 3
   },
   "file_extension": ".py",
   "mimetype": "text/x-python",
   "name": "python",
   "nbconvert_exporter": "python",
   "pygments_lexer": "ipython3",
   "version": "3.9.7"
  }
 },
 "nbformat": 4,
 "nbformat_minor": 5
}
